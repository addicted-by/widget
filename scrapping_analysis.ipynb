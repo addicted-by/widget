{
 "cells": [
  {
   "cell_type": "code",
   "execution_count": 3,
   "metadata": {},
   "outputs": [],
   "source": [
    "import selenium\n",
    "import os\n",
    "from tqdm import tqdm\n",
    "import warnings\n",
    "warnings.simplefilter(\"ignore\", DeprecationWarning)\n",
    "warnings.simplefilter(\"ignore\", UserWarning)\n",
    "\n",
    "from selenium import webdriver\n",
    "from selenium.webdriver.common.keys import Keys\n",
    "import time\n",
    "import urllib\n",
    "import requests\n",
    "from bs4 import BeautifulSoup\n",
    "import re\n",
    "import pandas as pd\n"
   ]
  },
  {
   "cell_type": "code",
   "execution_count": 7,
   "metadata": {},
   "outputs": [],
   "source": [
    "driver = webdriver.Edge()"
   ]
  },
  {
   "cell_type": "code",
   "execution_count": 8,
   "metadata": {},
   "outputs": [],
   "source": [
    "driver.get('https://www.youtube.com/watch?v=7NHJtSs0OSc')"
   ]
  },
  {
   "cell_type": "code",
   "execution_count": 9,
   "metadata": {},
   "outputs": [],
   "source": [
    "soup = BeautifulSoup(driver.page_source, 'html.parser')"
   ]
  },
  {
   "cell_type": "code",
   "execution_count": 15,
   "metadata": {},
   "outputs": [],
   "source": [
    "soup.find(itemprop_ ='video-id')"
   ]
  },
  {
   "cell_type": "code",
   "execution_count": null,
   "metadata": {},
   "outputs": [],
   "source": [
    "# driver.find_element_by_class_name('html5-video-container').find_element_by_class_name('video-stream.html5-main-video').click()"
   ]
  },
  {
   "cell_type": "code",
   "execution_count": 74,
   "metadata": {},
   "outputs": [
    {
     "data": {
      "text/plain": [
       "'15M'"
      ]
     },
     "execution_count": 74,
     "metadata": {},
     "output_type": "execute_result"
    }
   ],
   "source": []
  },
  {
   "cell_type": "code",
   "execution_count": 17,
   "metadata": {},
   "outputs": [],
   "source": [
    "import urllib.parse as urlparse\n",
    "\n",
    "def video_id(value):\n",
    "    \"\"\"\n",
    "    Examples:\n",
    "    - http://youtu.be/SA2iWivDJiE\n",
    "    - http://www.youtube.com/watch?v=_oPAwA_Udwc&feature=feedu\n",
    "    - http://www.youtube.com/embed/SA2iWivDJiE\n",
    "    - http://www.youtube.com/v/SA2iWivDJiE?version=3&amp;hl=en_US\n",
    "    \"\"\"\n",
    "    query = urlparse.urlparse(value)\n",
    "    if query.hostname == 'youtu.be':\n",
    "        return query.path[1:]\n",
    "    if query.hostname in ('www.youtube.com', 'youtube.com'):\n",
    "        if query.path == '/watch':\n",
    "            p = urlparse.parse_qs(query.query)\n",
    "            return p['v'][0]\n",
    "        if query.path[:7] == '/embed/':\n",
    "            return query.path.split('/')[2]\n",
    "        if query.path[:3] == '/v/':\n",
    "            return query.path.split('/')[2]\n",
    "    # fail?\n",
    "    return None"
   ]
  },
  {
   "cell_type": "code",
   "execution_count": 19,
   "metadata": {},
   "outputs": [
    {
     "data": {
      "text/plain": [
       "'4sosXZsdy-s'"
      ]
     },
     "execution_count": 19,
     "metadata": {},
     "output_type": "execute_result"
    }
   ],
   "source": [
    "video_id(\"https://www.youtube.com/watch?v=4sosXZsdy-s&ab_channel=TraversyMedia\")"
   ]
  },
  {
   "cell_type": "code",
   "execution_count": 4,
   "metadata": {},
   "outputs": [
    {
     "data": {
      "text/plain": [
       "re.compile(r'https://www.youtube.com/watch?v=7NHJtSs0OSc', re.UNICODE)"
      ]
     },
     "execution_count": 4,
     "metadata": {},
     "output_type": "execute_result"
    }
   ],
   "source": [
    "re.compile(\"https://www.youtube.com/watch?v=7NHJtSs0OSc\")"
   ]
  },
  {
   "cell_type": "code",
   "execution_count": 20,
   "metadata": {},
   "outputs": [],
   "source": [
    "del soup"
   ]
  },
  {
   "cell_type": "code",
   "execution_count": 45,
   "metadata": {},
   "outputs": [],
   "source": [
    "class YouTubeScrapper():\n",
    "    # Constructor\n",
    "    def __init__(self,\n",
    "                    webdriver_path:str='./',\n",
    "                    browser={'edge', 'chrome'},\n",
    "                    output_path:str='', headless:bool=True):\n",
    "        assert browser in {'edge', 'chrome'}, 'browser not comparable'\n",
    "        self.scrapper_class = 'YouTube scrapper'\n",
    "        options = webdriver.edge.options.Options() if browser == 'edge' \\\n",
    "                                                else webdriver.chrome.options.Options()\n",
    "        if headless:\n",
    "            options.add_argument(\"--headless\")\n",
    "        try:\n",
    "            if webdriver_path == './':\n",
    "                self.driver = webdriver.Edge(options=options) if browser == 'edge' \\\n",
    "                                        else webdriver.Chrome(options=options)\n",
    "            else:\n",
    "                self.driver = webdriver.Edge(webdriver_path, \n",
    "                                    options=options) if browser=='edge' \\\n",
    "                            else webdriver.Chrome(webdriver_path, options=options) \n",
    "        except:\n",
    "            print(\"webdriver can't be found with that input path\")\n",
    "        self.output_path = output_path\n",
    "\n",
    "    def get_video_id(self, link):\n",
    "        query = urlparse.urlparse(link)\n",
    "        if query.hostname == 'youtu.be':\n",
    "            return query.path[1:]\n",
    "        if query.hostname in ('www.youtube.com', 'youtube.com'):\n",
    "            if query.path == '/watch':\n",
    "                p = urlparse.parse_qs(query.query)\n",
    "                return p['v'][0]\n",
    "            if query.path[:7] == '/embed/':\n",
    "                return query.path.split('/')[2]\n",
    "            if query.path[:3] == '/v/':\n",
    "                return query.path.split('/')[2]\n",
    "        # fail?\n",
    "        return None\n",
    "\n",
    "    def scroll_to_bottom(self, limit=None, time_sleep:int=1.5):\n",
    "        last_height = self.driver.execute_script('\\\n",
    "        return window.scrollY')\n",
    "        current = 1\n",
    "        limit_check = lambda x: True if x > limit else False\n",
    "        while True:\n",
    "            from selenium.webdriver.common.keys import Keys\n",
    "            html = self.driver.find_element_by_tag_name('html')\n",
    "            html.send_keys(Keys.END)\n",
    "            time.sleep(time_sleep)\n",
    "            new_height = self.driver.execute_script('\\\n",
    "                return window.scrollY')\n",
    "            if last_height == new_height:\n",
    "                break\n",
    "            if limit:\n",
    "                if limit_check(current):\n",
    "                    break\n",
    "                current += 1\n",
    "            last_height = new_height\n",
    "        \n",
    "    def from_string_to_int(self, fol_string: str):\n",
    "        tens = {'K': 10e2, 'M': 10e5, 'B': 10e8, 'k': 10e2, 'm': 10e5, 'b': 10e8}\n",
    "        if (fol_string[-1] != 'K' and fol_string[-1] != 'M' \n",
    "                        and fol_string[-1] != 'k' and fol_string[-1] != 'm'\n",
    "                        and fol_string[-1] != 'b' and fol_string[-1] != 'B'):\n",
    "            return int(fol_string)\n",
    "        f = lambda x: int(float(x[:-1])*tens[x[-1]])\n",
    "        return f(fol_string)\n",
    "    # get likes method\n",
    "    def get_likes(self) -> int:\n",
    "        fol_string = self.soup.find(id='menu-container').find(id='text').text\n",
    "        return self.from_string_to_int(fol_string=fol_string)\n",
    "    #get views\n",
    "    def get_views(self) -> int:\n",
    "        fol_string = self.soup.find_all(\n",
    "            'div', id='info')[-1].find(\n",
    "                'div', id='count').find(\n",
    "                    class_=re.compile(r'short*')).text.split()[0]\n",
    "        return self.from_string_to_int(fol_string=fol_string)\n",
    "    #scrape method\n",
    "    def scrape_comments(self, link: str, save=True,\n",
    "                            scroll_limit=None, time_sleep:int=3):\n",
    "        self.driver.get(link)\n",
    "        time.sleep(time_sleep//2)\n",
    "        self.soup = BeautifulSoup(self.driver.page_source, 'html.parser')\n",
    "        del self.driver\n",
    "\n",
    "        # try:\n",
    "        #     print('something')\n",
    "        #     self.driver.find_element_by_class_name(\n",
    "        #         'html5-video-container').find_element_by_class_name(\n",
    "        #             'video-stream.html5-main-video').click()\n",
    "        # except:\n",
    "        #     print('Video is not playing')\n",
    "        video_info = {\n",
    "            'video_id': self.get_video_id(link=link),\n",
    "            'link': link,\n",
    "            'likes': self.get_likes(),\n",
    "            'views': self.get_views(),\n",
    "        }\n",
    "        df_video = pd.DataFrame(video_info, index=['video'])\n",
    "        if save: \n",
    "            df_video.to_csv(os.path.join(self.output_path, 'video_info.csv'), index=False)\n",
    "        # self.scroll_to_bottom(limit=scroll_limit)\n",
    "        # prev_soup = self.soup\n",
    "        # self.soup = BeautifulSoup(self.driver.page_source, 'html.parser')\n",
    "        return df_video"
   ]
  },
  {
   "cell_type": "code",
   "execution_count": 46,
   "metadata": {},
   "outputs": [],
   "source": [
    "scrapper = YouTubeScrapper(browser='edge')"
   ]
  },
  {
   "cell_type": "code",
   "execution_count": 47,
   "metadata": {},
   "outputs": [
    {
     "data": {
      "text/html": [
       "<div>\n",
       "<style scoped>\n",
       "    .dataframe tbody tr th:only-of-type {\n",
       "        vertical-align: middle;\n",
       "    }\n",
       "\n",
       "    .dataframe tbody tr th {\n",
       "        vertical-align: top;\n",
       "    }\n",
       "\n",
       "    .dataframe thead th {\n",
       "        text-align: right;\n",
       "    }\n",
       "</style>\n",
       "<table border=\"1\" class=\"dataframe\">\n",
       "  <thead>\n",
       "    <tr style=\"text-align: right;\">\n",
       "      <th></th>\n",
       "      <th>video_id</th>\n",
       "      <th>link</th>\n",
       "      <th>likes</th>\n",
       "      <th>views</th>\n",
       "    </tr>\n",
       "  </thead>\n",
       "  <tbody>\n",
       "    <tr>\n",
       "      <th>video</th>\n",
       "      <td>7NHJtSs0OSc</td>\n",
       "      <td>https://www.youtube.com/watch?v=7NHJtSs0OSc</td>\n",
       "      <td>10000</td>\n",
       "      <td>197000</td>\n",
       "    </tr>\n",
       "  </tbody>\n",
       "</table>\n",
       "</div>"
      ],
      "text/plain": [
       "          video_id                                         link  likes   views\n",
       "video  7NHJtSs0OSc  https://www.youtube.com/watch?v=7NHJtSs0OSc  10000  197000"
      ]
     },
     "execution_count": 47,
     "metadata": {},
     "output_type": "execute_result"
    }
   ],
   "source": [
    "scrapper.scrape_comments(link='https://www.youtube.com/watch?v=7NHJtSs0OSc')"
   ]
  },
  {
   "cell_type": "code",
   "execution_count": null,
   "metadata": {},
   "outputs": [],
   "source": []
  }
 ],
 "metadata": {
  "interpreter": {
   "hash": "3a2646dfc33b98734cd77dd23b04a9bc32096c26eadccf953f4761437d2407b2"
  },
  "kernelspec": {
   "display_name": "Python 3.9.10 64-bit",
   "language": "python",
   "name": "python3"
  },
  "language_info": {
   "codemirror_mode": {
    "name": "ipython",
    "version": 3
   },
   "file_extension": ".py",
   "mimetype": "text/x-python",
   "name": "python",
   "nbconvert_exporter": "python",
   "pygments_lexer": "ipython3",
   "version": "3.9.10"
  },
  "orig_nbformat": 4
 },
 "nbformat": 4,
 "nbformat_minor": 2
}
